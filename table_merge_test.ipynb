{
 "cells": [
  {
   "cell_type": "code",
   "execution_count": 23,
   "metadata": {},
   "outputs": [
    {
     "name": "stdout",
     "output_type": "stream",
     "text": [
      "['Point', 'Polygon', 'Polyine']\n",
      "['C:\\\\Users\\\\matthew.cole\\\\Documents\\\\Project\\\\GIS\\\\Library\\\\Dev_Apps\\\\HMP_Tools\\\\HMP_Tools\\\\Temp_Processing.gdb\\\\Point', 'C:\\\\Users\\\\matthew.cole\\\\Documents\\\\Project\\\\GIS\\\\Library\\\\Dev_Apps\\\\HMP_Tools\\\\HMP_Tools\\\\Temp_Processing.gdb\\\\Polygon', 'C:\\\\Users\\\\matthew.cole\\\\Documents\\\\Project\\\\GIS\\\\Library\\\\Dev_Apps\\\\HMP_Tools\\\\HMP_Tools\\\\Temp_Processing.gdb\\\\Polyine']\n",
      "OID\n",
      "String\n",
      "String\n",
      "Double\n",
      "String\n",
      "Date\n",
      "String\n",
      "String\n",
      "String\n",
      "String\n",
      "String\n",
      "String\n",
      "String\n",
      "String\n",
      "String\n",
      "String\n",
      "String\n",
      "String\n",
      "Double\n",
      "Double\n",
      "String\n",
      "String\n",
      "Integer\n",
      "String\n",
      "String\n",
      "String\n",
      "Double\n",
      "String\n",
      "String\n",
      "String\n",
      "String\n",
      "String\n",
      "String\n",
      "String\n",
      "String\n",
      "String\n",
      "Double\n",
      "String\n",
      "String\n",
      "String\n",
      "String\n",
      "String\n",
      "String\n",
      "String\n",
      "String\n",
      "String\n",
      "String\n",
      "String\n",
      "String\n",
      "String\n",
      "String\n",
      "Double\n",
      "String\n",
      "Double\n",
      "Double\n",
      "String\n",
      "Date\n",
      "String\n",
      "String\n",
      "String\n",
      "Double\n",
      "Double\n",
      "Double\n",
      "String\n",
      "String\n",
      "Date\n",
      "String\n",
      "Double\n",
      "String\n",
      "Double\n",
      "Double\n",
      "String\n",
      "['OBJECTID', 'test_fld', 'ACQ_TYPE', 'ACRES', 'Address', 'CLOSE_DATE', 'COMMENTS', 'COMMENTS1', 'COMMENTS2', 'COOWNERS', 'COUNTY', 'City', 'DESC1', 'DESC2', 'DIGBND_SRC', 'DIG_COM', 'ESMT_HOLD', 'FACILITY_T', 'FF_AC_PUR', 'FF_FUNDS_S', 'FF_PUR_PR1', 'FF_PUR_PR2', 'ID', 'INFERRED', 'IN_FLMA', 'LONGLAT', 'LTF_ACRES', 'MACODE_BCD', 'MAJORMA', 'MANAGER', 'MANAGING_A', 'MANAME', 'MANAME_AB', 'MAN_AGNCY', 'MATYPE', 'MATYPE2', 'MA_ID', 'MA_NAME', 'MA_WEBSITE', 'MGRCITY', 'MGRINST', 'MGRPHONE', 'NAICS_CODE', 'NAICS_DESC', 'Name', 'OTH_PUR_PR', 'OWNER', 'OWNERSHIP', 'OWNERTYPES', 'PARCELID', 'PAR_NAME', 'PRC_FF', 'PRJ_NAME', 'PROTSTAT', 'SHAPE__Len', 'SOURCE', 'SOURCEDATE', 'STATUS', 'SUB_1', 'SUB_2', 'Shape_Area', 'Shape_Length', 'TOTACRES', 'TYPE', 'USNG', 'VAL_DATE', 'VAL_METHOD', 'VOLTAGE', 'VOLT_CLASS', 'X', 'Y', 'Zip']\n"
     ]
    }
   ],
   "source": [
    "import arcpy, os, sys\n",
    "import pandas as pd\n",
    "arcpy.env.overwriteOutput = True\n",
    "\n",
    "gdb = r'C:\\Users\\matthew.cole\\Documents\\Project\\GIS\\Library\\Dev_Apps\\HMP_Tools\\HMP_Tools\\Temp_Processing.gdb'\n",
    "\n",
    "target_table = r'C:\\Users\\matthew.cole\\Documents\\Project\\GIS\\Library\\Dev_Apps\\HMP_Tools\\HMP_Tools\\Temp_Processing.gdb\\Test_Table'\n",
    "\n",
    "datasets = []\n",
    "\n",
    "def env(x):\n",
    "    arcpy.env.workspace = x\n",
    "    return arcpy.env.workspace\n",
    "\n",
    "env(gdb)\n",
    "\n",
    "feature_datasets = arcpy.ListDatasets()\n",
    "for dataset in feature_datasets:\n",
    "    datasets.append(dataset)\n",
    "print(datasets)\n",
    "\n",
    "datset_count = len(datasets)\n",
    "dataset_paths = []\n",
    "\n",
    "def dataset_path(x,y):\n",
    "    path = os.path.join(x,y)\n",
    "    return path\n",
    "\n",
    "for ds in datasets:\n",
    "    ds_path = dataset_path(gdb,ds)\n",
    "    dataset_paths.append(ds_path)\n",
    "\n",
    "print(dataset_paths)\n",
    "\n",
    "field_list = []\n",
    "table_fields = arcpy.ListFields(target_table)\n",
    "for fld in table_fields:\n",
    "    field_list.append(fld.name)\n",
    "    print(fld.type)\n",
    "print(field_list)"
   ]
  },
  {
   "cell_type": "code",
   "execution_count": 24,
   "metadata": {},
   "outputs": [
    {
     "name": "stdout",
     "output_type": "stream",
     "text": [
      "['objectid', 'test_fld', 'acq_type', 'acres', 'address', 'close_date', 'comments', 'comments1', 'comments2', 'coowners', 'county', 'city', 'desc1', 'desc2', 'digbnd_src', 'dig_com', 'esmt_hold', 'facility_t', 'ff_ac_pur', 'ff_funds_s', 'ff_pur_pr1', 'ff_pur_pr2', 'id', 'inferred', 'in_flma', 'longlat', 'ltf_acres', 'macode_bcd', 'majorma', 'manager', 'managing_a', 'maname', 'maname_ab', 'man_agncy', 'matype', 'matype2', 'ma_id', 'ma_name', 'ma_website', 'mgrcity', 'mgrinst', 'mgrphone', 'naics_code', 'naics_desc', 'name', 'oth_pur_pr', 'owner', 'ownership', 'ownertypes', 'parcelid', 'par_name', 'prc_ff', 'prj_name', 'protstat', 'shape__len', 'source', 'sourcedate', 'status', 'sub_1', 'sub_2', 'shape_area', 'shape_length', 'totacres', 'type', 'usng', 'val_date', 'val_method', 'voltage', 'volt_class', 'x', 'y', 'zip']\n",
      "C:\\Users\\matthew.cole\\Documents\\Project\\GIS\\Library\\Dev_Apps\\HMP_Tools\\HMP_Tools\\Temp_Processing.gdb\\Point\n",
      "C:\\Users\\matthew.cole\\Documents\\Project\\GIS\\Library\\Dev_Apps\\HMP_Tools\\HMP_Tools\\Temp_Processing.gdb\\Polygon\n",
      "C:\\Users\\matthew.cole\\Documents\\Project\\GIS\\Library\\Dev_Apps\\HMP_Tools\\HMP_Tools\\Temp_Processing.gdb\\Polyine\n",
      "['C:\\\\Users\\\\matthew.cole\\\\Documents\\\\Project\\\\GIS\\\\Library\\\\Dev_Apps\\\\HMP_Tools\\\\HMP_Tools\\\\Temp_Processing.gdb\\\\Point\\\\Projected_community_centers', 'C:\\\\Users\\\\matthew.cole\\\\Documents\\\\Project\\\\GIS\\\\Library\\\\Dev_Apps\\\\HMP_Tools\\\\HMP_Tools\\\\Temp_Processing.gdb\\\\Polygon\\\\Projected_conservation_lands', 'C:\\\\Users\\\\matthew.cole\\\\Documents\\\\Project\\\\GIS\\\\Library\\\\Dev_Apps\\\\HMP_Tools\\\\HMP_Tools\\\\Temp_Processing.gdb\\\\Polyine\\\\Projected_electric_production_supply_facilities_transmission']\n"
     ]
    }
   ],
   "source": [
    "new_fields = []\n",
    "field_dictionary = {}\n",
    "fc_all = []\n",
    "type_list = [\"String\",\"Single\",\"Double\",\"SmallInteger\",\"Integer\",\"Date\",\"Blob\",\"Raster\",\"Guid\"]\n",
    "existing_fields_lower = []\n",
    "\n",
    "for name in field_list:\n",
    "    existing_fields_lower.append(name.lower())\n",
    "print(existing_fields_lower)\n",
    "\n",
    "for dsp in dataset_paths:\n",
    "    env(dsp)\n",
    "    print(dsp)\n",
    "    fclist = arcpy.ListFeatureClasses()\n",
    "\n",
    "    for fc in fclist:\n",
    "        fc_desc = arcpy.Describe(fc)\n",
    "        fc_path = os.path.join(dsp,fc_desc.name)\n",
    "        fc_all.append(fc_path)\n",
    "print(fc_all)"
   ]
  },
  {
   "cell_type": "code",
   "execution_count": 25,
   "metadata": {},
   "outputs": [],
   "source": [
    "arcpy.env.overwriteOutput = True\n",
    "test_sheet = r'C:\\Users\\matthew.cole\\Documents\\Project\\GIS\\Library\\Dev_Apps\\HMP_Tools\\HMP_Tools\\Temp_Folder\\Test_table.xlsx'\n",
    "excel_writer = pd.ExcelWriter(test_sheet, engine='xlsxwriter')\n",
    "\n",
    "def word_split(x):\n",
    "    fc_words = x.split(\"_\")\n",
    "    fc_word_letters = [word[0] for word in fc_words]\n",
    "    fc_name_abbr = ''.join(fc_word_letters)\n",
    "    return fc_name_abbr\n",
    "\n",
    "for fc in fc_all:\n",
    "    fc_desc = arcpy.Describe(fc)\n",
    "    fc_name = fc_desc.name\n",
    "\n",
    "    table = arcpy.TableToTable_conversion(fc, 'in_memory', word_split(fc_name))\n",
    "    df = pd.DataFrame([row for row in arcpy.da.SearchCursor(table, \"*\")])\n",
    "    df.columns = [field.name for field in arcpy.ListFields(table)]\n",
    "    df.to_excel(excel_writer, sheet_name=word_split(fc_name), index=False)\n",
    "\n",
    "# Save the Excel file\n",
    "excel_writer.save()"
   ]
  },
  {
   "cell_type": "code",
   "execution_count": 51,
   "metadata": {},
   "outputs": [
    {
     "name": "stdout",
     "output_type": "stream",
     "text": [
      "['OBJECTID_1', 'Shape', 'SHAPE__Len', 'SUB_2', 'SUB_1', 'INFERRED', 'VOLT_CLASS', 'VOLTAGE', 'OWNER', 'VAL_DATE', 'VAL_METHOD', 'SOURCEDATE', 'SOURCE', 'NAICS_DESC', 'NAICS_CODE', 'STATUS', 'TYPE', 'ID', 'OBJECTID', 'Shape_Length']\n"
     ]
    }
   ],
   "source": [
    "import pandas as pd\n",
    "\n",
    "combined_df = pd.DataFrame()\n",
    "test_sheet = r'C:\\Users\\matthew.cole\\Documents\\Project\\GIS\\Library\\Dev_Apps\\HMP_Tools\\HMP_Tools\\Temp_Folder\\Test_table_1.xlsx'\n",
    "excel_writer = pd.ExcelWriter(test_sheet, engine='xlsxwriter')\n",
    "\n",
    "# Iterate through the feature classes\n",
    "for fc in fc_all:    \n",
    "    # Get the attribute fields\n",
    "    field_names = [field.name for field in arcpy.ListFields(fc_path)]\n",
    "    \n",
    "    # Convert feature class data to a Pandas DataFrame\n",
    "    data = [row for row in arcpy.da.SearchCursor(fc_path, field_names)]\n",
    "    fc_df = pd.DataFrame(data, columns=field_names)\n",
    "    \n",
    "    # Append the feature class DataFrame to the combined DataFrame\n",
    "    combined_df = pd.concat([combined_df, fc_df], axis=0)\n",
    "\n",
    "# Group columns by name and count occurrences\n",
    "column_counts = combined_df.columns.value_counts()\n",
    "\n",
    "# Filter columns with more than one instance\n",
    "selected_columns = column_counts[column_counts > 0].index.tolist()\n",
    "print(selected_columns)\n",
    "selected_df = combined_df[selected_columns]\n",
    "\n",
    "selected_df.to_excel(excel_writer, index=False)"
   ]
  },
  {
   "cell_type": "code",
   "execution_count": 23,
   "metadata": {},
   "outputs": [
    {
     "name": "stdout",
     "output_type": "stream",
     "text": [
      "['objectid', 'test_fld']\n",
      "C:\\Users\\matthew.cole\\Documents\\Project\\GIS\\Library\\Dev_Apps\\HMP_Tools\\HMP_Tools\\Temp_Processing.gdb\\Point\n",
      "C:\\Users\\matthew.cole\\Documents\\Project\\GIS\\Library\\Dev_Apps\\HMP_Tools\\HMP_Tools\\Temp_Processing.gdb\\Polygon\n",
      "C:\\Users\\matthew.cole\\Documents\\Project\\GIS\\Library\\Dev_Apps\\HMP_Tools\\HMP_Tools\\Temp_Processing.gdb\\Polyine\n",
      "['C:\\\\Users\\\\matthew.cole\\\\Documents\\\\Project\\\\GIS\\\\Library\\\\Dev_Apps\\\\HMP_Tools\\\\HMP_Tools\\\\Temp_Processing.gdb\\\\Point\\\\Projected_community_centers', 'C:\\\\Users\\\\matthew.cole\\\\Documents\\\\Project\\\\GIS\\\\Library\\\\Dev_Apps\\\\HMP_Tools\\\\HMP_Tools\\\\Temp_Processing.gdb\\\\Polygon\\\\Projected_conservation_lands', 'C:\\\\Users\\\\matthew.cole\\\\Documents\\\\Project\\\\GIS\\\\Library\\\\Dev_Apps\\\\HMP_Tools\\\\HMP_Tools\\\\Temp_Processing.gdb\\\\Polyine\\\\Projected_electric_production_supply_facilities_transmission']\n",
      "['acq_type', 'acres', 'address', 'city', 'close_date', 'comments', 'comments1', 'comments2', 'coowners', 'county', 'desc1', 'desc2', 'dig_com', 'digbnd_src', 'esmt_hold', 'facility_t', 'ff_ac_pur', 'ff_funds_s', 'ff_pur_pr1', 'ff_pur_pr2', 'id', 'in_flma', 'inferred', 'longlat', 'ltf_acres', 'ma_id', 'ma_name', 'ma_website', 'macode_bcd', 'majorma', 'man_agncy', 'manager', 'managing_a', 'maname', 'maname_ab', 'matype', 'matype2', 'mgrcity', 'mgrinst', 'mgrphone', 'naics_code', 'naics_desc', 'name', 'objectid', 'oth_pur_pr', 'owner', 'ownership', 'ownertypes', 'par_name', 'parcelid', 'prc_ff', 'prj_name', 'protstat', 'shape__len', 'shape_area', 'shape_length', 'source', 'sourcedate', 'status', 'sub_1', 'sub_2', 'test_fld', 'totacres', 'type', 'usng', 'val_date', 'val_method', 'volt_class', 'voltage', 'x', 'y', 'zip']\n",
      "72\n",
      "['ACQ_TYPE', 'ACRES', 'Address', 'CLOSE_DATE', 'COMMENTS', 'COMMENTS1', 'COMMENTS2', 'COOWNERS', 'COUNTY', 'City', 'DESC1', 'DESC2', 'DIGBND_SRC', 'DIG_COM', 'ESMT_HOLD', 'FACILITY_T', 'FF_AC_PUR', 'FF_FUNDS_S', 'FF_PUR_PR1', 'FF_PUR_PR2', 'ID', 'INFERRED', 'IN_FLMA', 'LONGLAT', 'LTF_ACRES', 'MACODE_BCD', 'MAJORMA', 'MANAGER', 'MANAGING_A', 'MANAME', 'MANAME_AB', 'MAN_AGNCY', 'MATYPE', 'MATYPE2', 'MA_ID', 'MA_NAME', 'MA_WEBSITE', 'MGRCITY', 'MGRINST', 'MGRPHONE', 'NAICS_CODE', 'NAICS_DESC', 'Name', 'OTH_PUR_PR', 'OWNER', 'OWNERSHIP', 'OWNERTYPES', 'PARCELID', 'PAR_NAME', 'PRC_FF', 'PRJ_NAME', 'PROTSTAT', 'SHAPE__Len', 'SOURCE', 'SOURCEDATE', 'STATUS', 'SUB_1', 'SUB_2', 'Shape_Area', 'Shape_Length', 'TOTACRES', 'TYPE', 'USNG', 'VAL_DATE', 'VAL_METHOD', 'VOLTAGE', 'VOLT_CLASS', 'X', 'Y', 'Zip']\n",
      "70\n"
     ]
    }
   ],
   "source": [
    "new_fields = []\n",
    "field_dictionary = {}\n",
    "fc_all = []\n",
    "type_list = [\"String\",\"Single\",\"Double\",\"SmallInteger\",\"Integer\",\"Date\",\"Blob\",\"Raster\",\"Guid\"]\n",
    "existing_fields_lower = []\n",
    "\n",
    "for name in field_list:\n",
    "    existing_fields_lower.append(name.lower())\n",
    "print(existing_fields_lower)\n",
    "\n",
    "for dsp in dataset_paths:\n",
    "    env(dsp)\n",
    "    print(dsp)\n",
    "    fclist = arcpy.ListFeatureClasses()\n",
    "\n",
    "    for fc in fclist:\n",
    "        fc_desc = arcpy.Describe(fc)\n",
    "        fc_path = os.path.join(dsp,fc_desc.name)\n",
    "        fc_all.append(fc_path)\n",
    "        fields = arcpy.ListFields(fc)\n",
    "\n",
    "        for fld in fields:\n",
    "            fld_name = fld.name\n",
    "            fld_name_lower = fld_name.lower()\n",
    "\n",
    "            if fld_name not in field_list:\n",
    "                if fld_name not in new_fields:\n",
    "                    if fld_name_lower not in existing_fields_lower:\n",
    "                        if fld.type in type_list:\n",
    "                            if (fld.name, fld.type) not in field_dictionary.items():\n",
    "                                fld_name = fld.name\n",
    "                                fld_name_lower = fld_name.lower()\n",
    "                                field_dictionary[fld_name] = fld.type\n",
    "                                new_fields.append(fld_name)\n",
    "                                existing_fields_lower.append(fld_name_lower)\n",
    "\n",
    "\n",
    "existing_fields_lower_sort = sorted(existing_fields_lower)\n",
    "new_fld_sort = sorted(new_fields)\n",
    "print(fc_all)\n",
    "print(existing_fields_lower_sort)\n",
    "print(len(existing_fields_lower_sort))\n",
    "print(new_fld_sort)\n",
    "print(len(new_fld_sort))\n",
    "\n",
    "\n",
    "\n",
    "\n",
    "\n",
    "        "
   ]
  },
  {
   "cell_type": "code",
   "execution_count": 24,
   "metadata": {},
   "outputs": [
    {
     "name": "stdout",
     "output_type": "stream",
     "text": [
      "['OBJECTID', 'test_fld', 'ACQ_TYPE', 'ACRES', 'Address', 'CLOSE_DATE', 'COMMENTS', 'COMMENTS1', 'COMMENTS2', 'COOWNERS', 'COUNTY', 'City', 'DESC1', 'DESC2', 'DIGBND_SRC', 'DIG_COM', 'ESMT_HOLD', 'FACILITY_T', 'FF_AC_PUR', 'FF_FUNDS_S', 'FF_PUR_PR1', 'FF_PUR_PR2', 'ID', 'INFERRED', 'IN_FLMA', 'LONGLAT', 'LTF_ACRES', 'MACODE_BCD', 'MAJORMA', 'MANAGER', 'MANAGING_A', 'MANAME', 'MANAME_AB', 'MAN_AGNCY', 'MATYPE', 'MATYPE2', 'MA_ID', 'MA_NAME', 'MA_WEBSITE', 'MGRCITY', 'MGRINST', 'MGRPHONE', 'NAICS_CODE', 'NAICS_DESC', 'Name', 'OTH_PUR_PR', 'OWNER', 'OWNERSHIP', 'OWNERTYPES', 'PARCELID', 'PAR_NAME', 'PRC_FF', 'PRJ_NAME', 'PROTSTAT', 'SHAPE__Len', 'SOURCE', 'SOURCEDATE', 'STATUS', 'SUB_1', 'SUB_2', 'Shape_Area', 'Shape_Length', 'TOTACRES', 'TYPE', 'USNG', 'VAL_DATE', 'VAL_METHOD', 'VOLTAGE', 'VOLT_CLASS', 'X', 'Y', 'Zip']\n"
     ]
    }
   ],
   "source": [
    "for flds in new_fld_sort:\n",
    "    arcpy.AddField_management(target_table,flds,(field_dictionary[flds]))\n",
    "\n",
    "new_tbl = arcpy.ListFields(target_table)\n",
    "new_tbl_flds = []\n",
    "for tbl_fld in new_tbl:\n",
    "    new_tbl_flds.append(tbl_fld.name)\n",
    "print(new_tbl_flds)\n",
    "print(len(new_tbl_flds))"
   ]
  },
  {
   "cell_type": "code",
   "execution_count": 44,
   "metadata": {},
   "outputs": [
    {
     "name": "stdout",
     "output_type": "stream",
     "text": [
      "['Name', 'Address', 'City', 'Zip', 'COUNTY', 'X', 'Y', 'LONGLAT', 'USNG', 'OWNERSHIP', 'PARCELID', 'FACILITY_T', 'MA_ID', 'MACODE_BCD', 'MANAME', 'MAJORMA', 'MATYPE', 'MANAGING_A', 'MATYPE2', 'OWNER', 'COOWNERS', 'OWNERTYPES', 'TOTACRES', 'LTF_ACRES', 'ESMT_HOLD', 'COUNTY', 'PROTSTAT', 'DESC1', 'DESC2', 'COMMENTS1', 'COMMENTS2', 'MANAGER', 'MGRINST', 'MGRCITY', 'MGRPHONE', 'MA_WEBSITE', 'MANAME_AB', 'DIGBND_SRC', 'ID', 'PAR_NAME', 'PRJ_NAME', 'MA_NAME', 'FF_PUR_PR1', 'FF_PUR_PR2', 'OTH_PUR_PR', 'FF_AC_PUR', 'ACQ_TYPE', 'CLOSE_DATE', 'MAN_AGNCY', 'COMMENTS', 'DIG_COM', 'IN_FLMA', 'FF_FUNDS_S', 'PRC_FF', 'ACRES', 'Shape_Length', 'Shape_Area', 'TYPE', 'STATUS', 'NAICS_CODE', 'NAICS_DESC', 'SOURCE', 'SOURCEDATE', 'VAL_METHOD', 'VAL_DATE', 'OWNER', 'VOLTAGE', 'VOLT_CLASS', 'INFERRED', 'SUB_1', 'SUB_2', 'SHAPE__Len', 'Shape_Length']\n",
      "73\n"
     ]
    },
    {
     "ename": "RuntimeError",
     "evalue": "Cannot find field 'Name'",
     "output_type": "error",
     "traceback": [
      "\u001b[1;31m---------------------------------------------------------------------------\u001b[0m",
      "\u001b[1;31mRuntimeError\u001b[0m                              Traceback (most recent call last)",
      "\u001b[1;32m~\\AppData\\Local\\Temp\\ipykernel_4940\\3787274580.py\u001b[0m in \u001b[0;36m<cell line: 14>\u001b[1;34m()\u001b[0m\n\u001b[0;32m     15\u001b[0m     \u001b[1;31m# Loop through each feature class and insert its rows into the output table\u001b[0m\u001b[1;33m\u001b[0m\u001b[1;33m\u001b[0m\u001b[0m\n\u001b[0;32m     16\u001b[0m     \u001b[1;32mwith\u001b[0m \u001b[0marcpy\u001b[0m\u001b[1;33m.\u001b[0m\u001b[0mda\u001b[0m\u001b[1;33m.\u001b[0m\u001b[0mSearchCursor\u001b[0m\u001b[1;33m(\u001b[0m\u001b[0mfcs\u001b[0m\u001b[1;33m,\u001b[0m \u001b[0min_fld_final\u001b[0m\u001b[1;33m)\u001b[0m \u001b[1;32mas\u001b[0m \u001b[0msearch_cursor\u001b[0m\u001b[1;33m:\u001b[0m\u001b[1;33m\u001b[0m\u001b[1;33m\u001b[0m\u001b[0m\n\u001b[1;32m---> 17\u001b[1;33m         \u001b[1;32mfor\u001b[0m \u001b[0mrow\u001b[0m \u001b[1;32min\u001b[0m \u001b[0msearch_cursor\u001b[0m\u001b[1;33m:\u001b[0m\u001b[1;33m\u001b[0m\u001b[1;33m\u001b[0m\u001b[0m\n\u001b[0m\u001b[0;32m     18\u001b[0m             \u001b[0minsert_cursor\u001b[0m\u001b[1;33m.\u001b[0m\u001b[0minsertRow\u001b[0m\u001b[1;33m(\u001b[0m\u001b[0mrow\u001b[0m\u001b[1;33m)\u001b[0m\u001b[1;33m\u001b[0m\u001b[1;33m\u001b[0m\u001b[0m\n",
      "\u001b[1;31mRuntimeError\u001b[0m: Cannot find field 'Name'"
     ]
    }
   ],
   "source": [
    "# Create an insert cursor for the output table\n",
    "in_fld_final = []\n",
    "qc_fld_list = []\n",
    "for fcs in fc_all:\n",
    "    in_flds = arcpy.ListFields(fcs)\n",
    "    for in_fld in in_flds:\n",
    "        in_fld_name = in_fld.name\n",
    "        if (in_fld_name, in_fld.type) in field_dictionary.items():\n",
    "            in_fld_final.append(in_fld_name)\n",
    "            qc_fld_list.append(in_fld_name)\n",
    "print(qc_fld_list)\n",
    "print(len(qc_fld_list))\n",
    "\n",
    "with arcpy.da.InsertCursor(target_table, in_fld_final) as insert_cursor:\n",
    "    # Loop through each feature class and insert its rows into the output table\n",
    "    with arcpy.da.SearchCursor(fcs, in_fld_final) as search_cursor:\n",
    "        for row in search_cursor:\n",
    "            insert_cursor.insertRow(row)\n"
   ]
  },
  {
   "cell_type": "code",
   "execution_count": null,
   "metadata": {},
   "outputs": [],
   "source": [
    "# Create an insert cursor for the output table\n",
    "in_fld_final = []\n",
    "qc_fld_list = []\n",
    "with arcpy.da.InsertCursor(target_table, new_tbl_flds) as insert_cursor:\n",
    "    # Loop through each feature class and insert its rows into the output table\n",
    "    for fcs in fc_all:\n",
    "        in_flds = arcpy.ListFields(fcs)\n",
    "        for in_fld in in_flds:\n",
    "            in_fld_name = in_fld.name\n",
    "            in_fld_name_lower = in_fld_name.lower()\n",
    "            if fld_name in new_tbl_flds:\n",
    "                if in_fld_name_lower in existing_fields_lower:\n",
    "                    if in_fld.type in type_list:\n",
    "                        if (in_fld_name, in_fld.type) in field_dictionary.items():\n",
    "                            qc_fld_list.extend(in_fld_final)\n",
    "                            print(qc_fld_list)\n",
    "                            with arcpy.da.SearchCursor(fcs, in_fld_final) as search_cursor:\n",
    "                                for row in search_cursor:\n",
    "                                    insert_cursor.insertRow(row)\n",
    "print(qc_fld_list)\n",
    "print(len(qc_fld_list))"
   ]
  },
  {
   "cell_type": "code",
   "execution_count": 49,
   "metadata": {},
   "outputs": [
    {
     "name": "stdout",
     "output_type": "stream",
     "text": [
      "Defaulting to user installation because normal site-packages is not writeable\n",
      "Collecting XlsxWriter\n",
      "  Downloading XlsxWriter-3.1.2-py3-none-any.whl (153 kB)\n",
      "     -------------------------------------- 153.0/153.0 kB 1.0 MB/s eta 0:00:00\n",
      "Installing collected packages: XlsxWriter\n",
      "Successfully installed XlsxWriter-3.1.2\n",
      "Note: you may need to restart the kernel to use updated packages.\n"
     ]
    }
   ],
   "source": [
    "pip install XlsxWriter"
   ]
  },
  {
   "cell_type": "code",
   "execution_count": null,
   "metadata": {},
   "outputs": [],
   "source": []
  }
 ],
 "metadata": {
  "kernelspec": {
   "display_name": "Python 3",
   "language": "python",
   "name": "python3"
  },
  "language_info": {
   "codemirror_mode": {
    "name": "ipython",
    "version": 3
   },
   "file_extension": ".py",
   "mimetype": "text/x-python",
   "name": "python",
   "nbconvert_exporter": "python",
   "pygments_lexer": "ipython3",
   "version": "3.9.16"
  },
  "orig_nbformat": 4
 },
 "nbformat": 4,
 "nbformat_minor": 2
}
